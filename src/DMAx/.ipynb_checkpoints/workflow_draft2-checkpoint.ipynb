{
 "cells": [
  {
   "cell_type": "code",
   "execution_count": 1,
   "id": "6a562288-143b-4c04-8e55-d8f0cef627c9",
   "metadata": {},
   "outputs": [],
   "source": [
    "import warnings\n",
    "warnings.filterwarnings(\"ignore\", \"Using `tqdm.autonotebook.tqdm`\")"
   ]
  },
  {
   "cell_type": "code",
   "execution_count": 6,
   "id": "cc8a2be2-43d9-4619-9883-86a0b7c3de49",
   "metadata": {},
   "outputs": [
    {
     "ename": "NameError",
     "evalue": "name 'dataclass' is not defined",
     "output_type": "error",
     "traceback": [
      "\u001b[0;31m---------------------------------------------------------------------------\u001b[0m",
      "\u001b[0;31mNameError\u001b[0m                                 Traceback (most recent call last)",
      "Cell \u001b[0;32mIn[6], line 1\u001b[0m\n\u001b[0;32m----> 1\u001b[0m \u001b[38;5;28;01mfrom\u001b[39;00m \u001b[38;5;21;01mLAMMPSInputGenerator2\u001b[39;00m \u001b[38;5;28;01mimport\u001b[39;00m DMAMasterCurveInputGenerator, submit_slurm_files\n\u001b[1;32m      2\u001b[0m \u001b[38;5;28;01mimport\u001b[39;00m \u001b[38;5;21;01mLAMMPSDMAParser\u001b[39;00m \u001b[38;5;28;01mas\u001b[39;00m \u001b[38;5;21;01mldp\u001b[39;00m\n\u001b[1;32m      3\u001b[0m \u001b[38;5;28;01mfrom\u001b[39;00m \u001b[38;5;21;01mmaggma\u001b[39;00m\u001b[38;5;21;01m.\u001b[39;00m\u001b[38;5;21;01mstores\u001b[39;00m \u001b[38;5;28;01mimport\u001b[39;00m MemoryStore\n",
      "File \u001b[0;32m/expanse/lustre/projects/csd626/bfune/scripts_bfune/LAMMPSInputGenerator2.py:376\u001b[0m\n\u001b[1;32m    373\u001b[0m             \u001b[38;5;28mself\u001b[39m\u001b[38;5;241m.\u001b[39mcreateLammpsInputDMA(std_freq_Hz, oscillation_amplitude_percentage\u001b[38;5;241m=\u001b[39mstrain, stressdir\u001b[38;5;241m=\u001b[39mstrain_direction)\n\u001b[1;32m    374\u001b[0m             os\u001b[38;5;241m.\u001b[39mchdir(\u001b[38;5;124m\"\u001b[39m\u001b[38;5;124m../\u001b[39m\u001b[38;5;124m\"\u001b[39m)\n\u001b[0;32m--> 376\u001b[0m \u001b[38;5;129m@dataclass\u001b[39m\n\u001b[1;32m    377\u001b[0m \u001b[38;5;28;01mclass\u001b[39;00m \u001b[38;5;21;01mDMAMasterCurveInputGenerator\u001b[39;00m(DMAInputGenerator):\n\u001b[1;32m    379\u001b[0m     \u001b[38;5;129m@job\u001b[39m\n\u001b[1;32m    380\u001b[0m     \u001b[38;5;28;01mdef\u001b[39;00m \u001b[38;5;21mMasterCurveCLI\u001b[39m(\u001b[38;5;28mself\u001b[39m, polymer_glass_temperature, standard_numcycles, standard_strain, num_frequencies\u001b[38;5;241m=\u001b[39m\u001b[38;5;241m20\u001b[39m, num_temperatures\u001b[38;5;241m=\u001b[39m\u001b[38;5;241m10\u001b[39m, temperature_interval\u001b[38;5;241m=\u001b[39m\u001b[38;5;241m10\u001b[39m, custom_frequency_range\u001b[38;5;241m=\u001b[39m\u001b[38;5;28;01mNone\u001b[39;00m, noise_filter_run\u001b[38;5;241m=\u001b[39m\u001b[38;5;28;01mTrue\u001b[39;00m, \u001b[38;5;241m*\u001b[39m\u001b[38;5;241m*\u001b[39mkwargs):\n\u001b[1;32m    381\u001b[0m         \u001b[38;5;124;03m\"\"\"\u001b[39;00m\n\u001b[1;32m    382\u001b[0m \u001b[38;5;124;03m        Method for generating the LAMMPS input files for generating a mechanical loss master curve.\u001b[39;00m\n\u001b[1;32m    383\u001b[0m \u001b[38;5;124;03m        ----------\u001b[39;00m\n\u001b[0;32m   (...)\u001b[0m\n\u001b[1;32m    391\u001b[0m \u001b[38;5;124;03m            Strain direction of the simulation. If not provided, will default to the longest axis of the unit cell.\u001b[39;00m\n\u001b[1;32m    392\u001b[0m \u001b[38;5;124;03m        \"\"\"\u001b[39;00m\n",
      "\u001b[0;31mNameError\u001b[0m: name 'dataclass' is not defined"
     ]
    }
   ],
   "source": [
    "from LAMMPSInputGenerator2 import DMAMasterCurveInputGenerator, submit_slurm_files\n",
    "import LAMMPSDMAParser as ldp\n",
    "from maggma.stores import MemoryStore\n",
    "from jobflow import job, JobStore, Flow\n",
    "from jobflow.managers.fireworks import flow_to_workflow\n",
    "from fireworks import Firework, LaunchPad\n",
    "from fireworks.core.rocket_launcher import launch_rocket"
   ]
  },
  {
   "cell_type": "code",
   "execution_count": null,
   "id": "df2e0818-cf9c-48f4-b00e-f63eb017460f",
   "metadata": {},
   "outputs": [],
   "source": [
    "#to do in meeting\n",
    "#TODO: debug \n",
    "#TODO: \n",
    "\n",
    "#try to do now\n",
    "#TODO: get mongodb database in NERSC\n",
    "#TODO: \n",
    "\n",
    "def mastercurve_wf_generator(structure_file, calc_dir, polymer_glass_temperature, standard_numcycles, standard_strain, num_frequencies=20, num_temperatures=10, temperature_interval=10, custom_frequency_range=None, noise_filter_run=True, forcefield=\"UFF\", suffix=None, account=None, nodes=1, ntasks_per_node=16, time='24:0:0', temperature=300, pressure=1, **kwargs):\n",
    "    \"\"\"\n",
    "    Method for to create workflow that will:\n",
    "    1: create LLAMPS input files\n",
    "    2: submit to supercomputer\n",
    "    3: parse output from supercomputer\n",
    "    ----------\n",
    "    ??\n",
    "    \"\"\"\n",
    "    stressdir = kwargs.get(\"stressdir\", None)\n",
    "    mastercurve_obj = DMAMasterCurveInputGenerator(structure_file, calc_dir, forcefield=forcefield, suffix=suffix, account=account, nodes=nodes, ntasks_per_node=ntasks_per_node, time=time, temperature=temperature, pressure=pressure) \n",
    "    \n",
    "    create_mastercurve_inputs = mastercurve_obj.MasterCurveCLI(polymer_glass_temperature, standard_numcycles, standard_strain, num_frequencies=num_frequencies, num_temperatures=num_temperatures, temperature_interval=temperature_interval, custom_frequency_range=custom_frequency_range, noise_filter_run=noise_filter_run, **kwargs)\n",
    "    submit_jobs = submit_slurm_files(mastercurve_obj.calc_dir)\n",
    "    parse_mastercurve_data = ldp.DMAMasterCurveDataParser(mastercurve_obj.calc_dir)\n",
    "    data = parse_mastercurve_data.master_curve_parser()\n",
    "    ##plot = parse_mastercurve_data.master_curve_plotter(data)\n",
    "    \n",
    "    docs_store = MemoryStore()\n",
    "    store = JobStore(docs_store)\n",
    "    flow = Flow([create_mastercurve_inputs, submit_jobs, parse_mastercurve_data])\n",
    "    responses = run_locally(flow, store=store)\n",
    "    \n",
    "    \"\"\"\n",
    "    workflow = flow_to_workflow(flow, store=store)\n",
    "    launchpad = LaunchPad()\n",
    "    launchpad.reset('', require_password=False)\n",
    "    launchpad.add_wf(workflow)\n",
    "    launch_rocket(launchpad)\n",
    "    \"\"\"\n",
    "    "
   ]
  },
  {
   "cell_type": "code",
   "execution_count": 3,
   "id": "3051fb1e-7fe2-4622-abfc-4274b5984d22",
   "metadata": {},
   "outputs": [
    {
     "ename": "NameError",
     "evalue": "name 'DMAMasterCurveInputGenerator' is not defined",
     "output_type": "error",
     "traceback": [
      "\u001b[0;31m---------------------------------------------------------------------------\u001b[0m",
      "\u001b[0;31mNameError\u001b[0m                                 Traceback (most recent call last)",
      "Cell \u001b[0;32mIn[3], line 1\u001b[0m\n\u001b[0;32m----> 1\u001b[0m mastercurve_obj \u001b[38;5;241m=\u001b[39m \u001b[43mDMAMasterCurveInputGenerator\u001b[49m(\u001b[38;5;124m\"\u001b[39m\u001b[38;5;124m/expanse/lustre/projects/csd626/bfune/bgf_files/ptfe/PTFE_hexagonal_lattice_single_chain.typed.bgf\u001b[39m\u001b[38;5;124m\"\u001b[39m, \u001b[38;5;124m\"\u001b[39m\u001b[38;5;124m/expanse/lustre/projects/csd626/bfune/2023/MOF_Project/mech_loss/PTFE/5_5/mastercurve_wf_test\u001b[39m\u001b[38;5;124m\"\u001b[39m, account\u001b[38;5;241m=\u001b[39m\u001b[38;5;124m\"\u001b[39m\u001b[38;5;124mcsd626\u001b[39m\u001b[38;5;124m\"\u001b[39m)\n",
      "\u001b[0;31mNameError\u001b[0m: name 'DMAMasterCurveInputGenerator' is not defined"
     ]
    }
   ],
   "source": [
    "mastercurve_obj = DMAMasterCurveInputGenerator(\"/expanse/lustre/projects/csd626/bfune/bgf_files/ptfe/PTFE_hexagonal_lattice_single_chain.typed.bgf\", \"/expanse/lustre/projects/csd626/bfune/2023/MOF_Project/mech_loss/PTFE/5_5/mastercurve_wf_test\", account=\"csd626\")\n"
   ]
  },
  {
   "cell_type": "code",
   "execution_count": 4,
   "id": "6de3064a-3b25-434c-bba2-a2f7a827f141",
   "metadata": {},
   "outputs": [
    {
     "ename": "NameError",
     "evalue": "name 'mastercurve_obj' is not defined",
     "output_type": "error",
     "traceback": [
      "\u001b[0;31m---------------------------------------------------------------------------\u001b[0m",
      "\u001b[0;31mNameError\u001b[0m                                 Traceback (most recent call last)",
      "Cell \u001b[0;32mIn[4], line 1\u001b[0m\n\u001b[0;32m----> 1\u001b[0m \u001b[43mmastercurve_obj\u001b[49m\u001b[38;5;241m.\u001b[39mMasterCurveCLI(polymer_glass_temperature\u001b[38;5;241m=\u001b[39m\u001b[38;5;241m400\u001b[39m, standard_numcycles\u001b[38;5;241m=\u001b[39m\u001b[38;5;241m5\u001b[39m, standard_strain\u001b[38;5;241m=\u001b[39m\u001b[38;5;241m0.12\u001b[39m, num_frequencies\u001b[38;5;241m=\u001b[39m\u001b[38;5;241m3\u001b[39m, num_temperatures\u001b[38;5;241m=\u001b[39m\u001b[38;5;241m3\u001b[39m, temperature_interval\u001b[38;5;241m=\u001b[39m\u001b[38;5;241m30\u001b[39m,  noise_filter_run\u001b[38;5;241m=\u001b[39m\u001b[38;5;28;01mFalse\u001b[39;00m)\n",
      "\u001b[0;31mNameError\u001b[0m: name 'mastercurve_obj' is not defined"
     ]
    }
   ],
   "source": [
    "mastercurve_obj.MasterCurveCLI(polymer_glass_temperature=400, standard_numcycles=5, standard_strain=0.12, num_frequencies=3, num_temperatures=3, temperature_interval=30,  noise_filter_run=False)"
   ]
  },
  {
   "cell_type": "code",
   "execution_count": 8,
   "id": "d9197733-a417-4f8d-bd90-d507ed19802d",
   "metadata": {},
   "outputs": [
    {
     "ename": "AttributeError",
     "evalue": "'DMAMasterCurveDataParser' object has no attribute 'host'",
     "output_type": "error",
     "traceback": [
      "\u001b[0;31m---------------------------------------------------------------------------\u001b[0m",
      "\u001b[0;31mAttributeError\u001b[0m                            Traceback (most recent call last)",
      "Cell \u001b[0;32mIn[8], line 1\u001b[0m\n\u001b[0;32m----> 1\u001b[0m test_wf \u001b[38;5;241m=\u001b[39m \u001b[43mmastercurve_wf_generator\u001b[49m\u001b[43m(\u001b[49m\u001b[38;5;124;43m\"\u001b[39;49m\u001b[38;5;124;43m/expanse/lustre/projects/csd626/bfune/bgf_files/ptfe/PTFE_hexagonal_lattice_single_chain.typed.bgf\u001b[39;49m\u001b[38;5;124;43m\"\u001b[39;49m\u001b[43m,\u001b[49m\u001b[43m \u001b[49m\u001b[38;5;124;43m\"\u001b[39;49m\u001b[38;5;124;43m/expanse/lustre/projects/csd626/bfune/2023/MOF_Project/mech_loss/PTFE/5_5/mastercurve_wf_test\u001b[39;49m\u001b[38;5;124;43m\"\u001b[39;49m\u001b[43m,\u001b[49m\u001b[43m \u001b[49m\u001b[43mpolymer_glass_temperature\u001b[49m\u001b[38;5;241;43m=\u001b[39;49m\u001b[38;5;241;43m400\u001b[39;49m\u001b[43m,\u001b[49m\u001b[43m \u001b[49m\u001b[43mstandard_numcycles\u001b[49m\u001b[38;5;241;43m=\u001b[39;49m\u001b[38;5;241;43m5\u001b[39;49m\u001b[43m,\u001b[49m\u001b[43m \u001b[49m\u001b[43mstandard_strain\u001b[49m\u001b[38;5;241;43m=\u001b[39;49m\u001b[38;5;241;43m0.12\u001b[39;49m\u001b[43m,\u001b[49m\u001b[43m \u001b[49m\u001b[43mnum_frequencies\u001b[49m\u001b[38;5;241;43m=\u001b[39;49m\u001b[38;5;241;43m3\u001b[39;49m\u001b[43m,\u001b[49m\u001b[43m \u001b[49m\u001b[43mnum_temperatures\u001b[49m\u001b[38;5;241;43m=\u001b[39;49m\u001b[38;5;241;43m3\u001b[39;49m\u001b[43m,\u001b[49m\u001b[43m \u001b[49m\u001b[43mtemperature_interval\u001b[49m\u001b[38;5;241;43m=\u001b[39;49m\u001b[38;5;241;43m30\u001b[39;49m\u001b[43m,\u001b[49m\u001b[43m \u001b[49m\u001b[43mnoise_filter_run\u001b[49m\u001b[38;5;241;43m=\u001b[39;49m\u001b[38;5;28;43;01mFalse\u001b[39;49;00m\u001b[43m,\u001b[49m\u001b[43m \u001b[49m\u001b[43mforcefield\u001b[49m\u001b[38;5;241;43m=\u001b[39;49m\u001b[38;5;124;43m\"\u001b[39;49m\u001b[38;5;124;43m/expanse/lustre/projects/csd626/bfune/ffs/ptfe.morse.ff\u001b[39;49m\u001b[38;5;124;43m\"\u001b[39;49m\u001b[43m,\u001b[49m\u001b[43m \u001b[49m\u001b[43msuffix\u001b[49m\u001b[38;5;241;43m=\u001b[39;49m\u001b[38;5;124;43m\"\u001b[39;49m\u001b[38;5;124;43mptfe\u001b[39;49m\u001b[38;5;124;43m\"\u001b[39;49m\u001b[43m,\u001b[49m\u001b[43m \u001b[49m\u001b[43maccount\u001b[49m\u001b[38;5;241;43m=\u001b[39;49m\u001b[38;5;124;43m\"\u001b[39;49m\u001b[38;5;124;43mcsd626\u001b[39;49m\u001b[38;5;124;43m\"\u001b[39;49m\u001b[43m)\u001b[49m\n",
      "Cell \u001b[0;32mIn[7], line 29\u001b[0m, in \u001b[0;36mmastercurve_wf_generator\u001b[0;34m(structure_file, calc_dir, polymer_glass_temperature, standard_numcycles, standard_strain, num_frequencies, num_temperatures, temperature_interval, custom_frequency_range, noise_filter_run, forcefield, suffix, account, nodes, ntasks_per_node, time, temperature, pressure, **kwargs)\u001b[0m\n\u001b[1;32m     27\u001b[0m docs_store \u001b[38;5;241m=\u001b[39m MemoryStore()\n\u001b[1;32m     28\u001b[0m store \u001b[38;5;241m=\u001b[39m JobStore(docs_store)\n\u001b[0;32m---> 29\u001b[0m flow \u001b[38;5;241m=\u001b[39m \u001b[43mFlow\u001b[49m\u001b[43m(\u001b[49m\u001b[43m[\u001b[49m\u001b[43mcreate_mastercurve_inputs\u001b[49m\u001b[43m,\u001b[49m\u001b[43m \u001b[49m\u001b[43msubmit_jobs\u001b[49m\u001b[43m,\u001b[49m\u001b[43m \u001b[49m\u001b[43mparse_mastercurve_data\u001b[49m\u001b[43m]\u001b[49m\u001b[43m)\u001b[49m\n\u001b[1;32m     30\u001b[0m responses \u001b[38;5;241m=\u001b[39m run_locally(flow, store\u001b[38;5;241m=\u001b[39mstore)\n\u001b[1;32m     32\u001b[0m \u001b[38;5;124;03m\"\"\"\u001b[39;00m\n\u001b[1;32m     33\u001b[0m \u001b[38;5;124;03mworkflow = flow_to_workflow(flow, store=store)\u001b[39;00m\n\u001b[1;32m     34\u001b[0m \u001b[38;5;124;03mlaunchpad = LaunchPad()\u001b[39;00m\n\u001b[0;32m   (...)\u001b[0m\n\u001b[1;32m     37\u001b[0m \u001b[38;5;124;03mlaunch_rocket(launchpad)\u001b[39;00m\n\u001b[1;32m     38\u001b[0m \u001b[38;5;124;03m\"\"\"\u001b[39;00m\n",
      "File \u001b[0;32m~/miniconda3/envs/cms/lib/python3.9/site-packages/jobflow/core/flow.py:144\u001b[0m, in \u001b[0;36mFlow.__init__\u001b[0;34m(self, jobs, output, name, order, uuid, hosts)\u001b[0m\n\u001b[1;32m    141\u001b[0m \u001b[38;5;28mself\u001b[39m\u001b[38;5;241m.\u001b[39mhosts \u001b[38;5;241m=\u001b[39m hosts \u001b[38;5;129;01mor\u001b[39;00m []\n\u001b[1;32m    143\u001b[0m \u001b[38;5;28mself\u001b[39m\u001b[38;5;241m.\u001b[39m_jobs: \u001b[38;5;28mtuple\u001b[39m[Flow \u001b[38;5;241m|\u001b[39m Job, \u001b[38;5;241m.\u001b[39m\u001b[38;5;241m.\u001b[39m\u001b[38;5;241m.\u001b[39m] \u001b[38;5;241m=\u001b[39m ()\n\u001b[0;32m--> 144\u001b[0m \u001b[38;5;28;43mself\u001b[39;49m\u001b[38;5;241;43m.\u001b[39;49m\u001b[43madd_jobs\u001b[49m\u001b[43m(\u001b[49m\u001b[43mjobs\u001b[49m\u001b[43m)\u001b[49m\n\u001b[1;32m    145\u001b[0m \u001b[38;5;28mself\u001b[39m\u001b[38;5;241m.\u001b[39moutput \u001b[38;5;241m=\u001b[39m output\n",
      "File \u001b[0;32m~/miniconda3/envs/cms/lib/python3.9/site-packages/jobflow/core/flow.py:687\u001b[0m, in \u001b[0;36mFlow.add_jobs\u001b[0;34m(self, jobs)\u001b[0m\n\u001b[1;32m    685\u001b[0m hosts \u001b[38;5;241m=\u001b[39m [\u001b[38;5;28mself\u001b[39m\u001b[38;5;241m.\u001b[39muuid, \u001b[38;5;241m*\u001b[39m\u001b[38;5;28mself\u001b[39m\u001b[38;5;241m.\u001b[39mhosts]\n\u001b[1;32m    686\u001b[0m \u001b[38;5;28;01mfor\u001b[39;00m job \u001b[38;5;129;01min\u001b[39;00m jobs:\n\u001b[0;32m--> 687\u001b[0m     \u001b[38;5;28;01mif\u001b[39;00m \u001b[43mjob\u001b[49m\u001b[38;5;241;43m.\u001b[39;49m\u001b[43mhost\u001b[49m \u001b[38;5;129;01mis\u001b[39;00m \u001b[38;5;129;01mnot\u001b[39;00m \u001b[38;5;28;01mNone\u001b[39;00m \u001b[38;5;129;01mand\u001b[39;00m job\u001b[38;5;241m.\u001b[39mhost \u001b[38;5;241m!=\u001b[39m \u001b[38;5;28mself\u001b[39m\u001b[38;5;241m.\u001b[39muuid:\n\u001b[1;32m    688\u001b[0m         \u001b[38;5;28;01mraise\u001b[39;00m \u001b[38;5;167;01mValueError\u001b[39;00m(\n\u001b[1;32m    689\u001b[0m             \u001b[38;5;124mf\u001b[39m\u001b[38;5;124m\"\u001b[39m\u001b[38;5;132;01m{\u001b[39;00mjob\u001b[38;5;241m.\u001b[39m\u001b[38;5;18m__class__\u001b[39m\u001b[38;5;241m.\u001b[39m\u001b[38;5;18m__name__\u001b[39m\u001b[38;5;132;01m}\u001b[39;00m\u001b[38;5;124m \u001b[39m\u001b[38;5;132;01m{\u001b[39;00mjob\u001b[38;5;241m.\u001b[39mname\u001b[38;5;132;01m}\u001b[39;00m\u001b[38;5;124m (\u001b[39m\u001b[38;5;132;01m{\u001b[39;00mjob\u001b[38;5;241m.\u001b[39muuid\u001b[38;5;132;01m}\u001b[39;00m\u001b[38;5;124m) already belongs \u001b[39m\u001b[38;5;124m\"\u001b[39m\n\u001b[1;32m    690\u001b[0m             \u001b[38;5;124mf\u001b[39m\u001b[38;5;124m\"\u001b[39m\u001b[38;5;124mto another flow.\u001b[39m\u001b[38;5;124m\"\u001b[39m\n\u001b[1;32m    691\u001b[0m         )\n\u001b[1;32m    692\u001b[0m     \u001b[38;5;28;01mif\u001b[39;00m job\u001b[38;5;241m.\u001b[39muuid \u001b[38;5;129;01min\u001b[39;00m job_ids:\n",
      "\u001b[0;31mAttributeError\u001b[0m: 'DMAMasterCurveDataParser' object has no attribute 'host'"
     ]
    }
   ],
   "source": [
    "test_wf = mastercurve_wf_generator(\"/expanse/lustre/projects/csd626/bfune/bgf_files/ptfe/PTFE_hexagonal_lattice_single_chain.typed.bgf\", \"/expanse/lustre/projects/csd626/bfune/2023/MOF_Project/mech_loss/PTFE/5_5/mastercurve_wf_test\", polymer_glass_temperature=400, standard_numcycles=5, standard_strain=0.12, num_frequencies=3, num_temperatures=3, temperature_interval=30, noise_filter_run=False, forcefield=\"/expanse/lustre/projects/csd626/bfune/ffs/ptfe.morse.ff\", suffix=\"ptfe\", account=\"csd626\")"
   ]
  },
  {
   "cell_type": "code",
   "execution_count": 3,
   "id": "8eaa0a9f-e352-42c2-91c8-d9d75029c3f1",
   "metadata": {},
   "outputs": [],
   "source": [
    "from functions import add, subtract\n",
    "from jobflow.managers.local import run_locally\n",
    "from jobflow import Flow"
   ]
  },
  {
   "cell_type": "code",
   "execution_count": 4,
   "id": "fca31e71-ebd5-4e80-bc15-f065786d2d56",
   "metadata": {},
   "outputs": [],
   "source": [
    "def test_fireworks_api(a, b, c):\n",
    "    \"\"\"\n",
    "    Method to test how to tie Fireworks with our project. \n",
    "    Sample method to create workflow that will:\n",
    "    1: add a, b\n",
    "    2: subtract the result of job 1 by c\n",
    "    3: subtract the result of job 2 by c\n",
    "    3: add the result of job 2 by a\n",
    "    \"\"\"\n",
    "    first = add(a, b)\n",
    "    second = subtract(first.output, c)\n",
    "    third = subtract(second.output, c)\n",
    "    fourth = add(third.output, a)\n",
    "    \n",
    "    docs_store = MemoryStore()\n",
    "    store = JobStore(docs_store)\n",
    "    flow = Flow([first, second, third, fourth])\n",
    "    flow.draw_graph(figsize=(4,4)).show()\n",
    "    \n",
    "    \"\"\"\n",
    "    to run jobs locally using Jobflow [SUCCESSFUL]:\n",
    "    \"\"\"\n",
    "    responses = run_locally(flow, store=store)\n",
    "    \n",
    "    \"\"\"\n",
    "    to run jobs locally using FireWorks [FAIL]:\n",
    "    \n",
    "    workflow = flow_to_workflow(flow, store=store)\n",
    "    launchpad = LaunchPad()\n",
    "    launchpad.reset('', require_password=False)\n",
    "    launchpad.add_wf(workflow)\n",
    "    launch_rocket(launchpad)\n",
    "    \"\"\"\n"
   ]
  },
  {
   "cell_type": "code",
   "execution_count": 5,
   "id": "9f655c8c-a384-4816-991a-8d40c0bf787b",
   "metadata": {},
   "outputs": [
    {
     "data": {
      "image/png": "[encoded data removed]",
      "text/plain": [
       "<Figure size 400x400 with 1 Axes>"
      ]
     },
     "metadata": {},
     "output_type": "display_data"
    },
    {
     "name": "stdout",
     "output_type": "stream",
     "text": [
      "2023-05-10 10:17:53,238 INFO Started executing jobs locally\n",
      "2023-05-10 10:17:53,239 INFO Starting job - add (58c8eb3c-68c7-4e4d-84b1-f027d9f4cdd3)\n",
      "2023-05-10 10:17:53,240 INFO Finished job - add (58c8eb3c-68c7-4e4d-84b1-f027d9f4cdd3)\n",
      "2023-05-10 10:17:53,241 INFO Starting job - subtract (d6aea3a9-bce0-4db2-97d9-15cef9e78414)\n",
      "2023-05-10 10:17:53,242 INFO Finished job - subtract (d6aea3a9-bce0-4db2-97d9-15cef9e78414)\n",
      "2023-05-10 10:17:53,242 INFO Starting job - subtract (0304261b-8d17-4a0e-b7b1-c08d8552ccf5)\n",
      "2023-05-10 10:17:53,243 INFO Finished job - subtract (0304261b-8d17-4a0e-b7b1-c08d8552ccf5)\n",
      "2023-05-10 10:17:53,243 INFO Starting job - add (06428043-57da-48ae-9c41-e4249359bac4)\n",
      "2023-05-10 10:17:53,244 INFO Finished job - add (06428043-57da-48ae-9c41-e4249359bac4)\n",
      "2023-05-10 10:17:53,245 INFO Finished executing jobs locally\n"
     ]
    }
   ],
   "source": [
    "a = 1\n",
    "b = 5\n",
    "c = 6\n",
    "test = test_fireworks_api(a,b,c)"
   ]
  },
  {
   "cell_type": "code",
   "execution_count": 28,
   "id": "644913a9-4115-4fb9-86ab-162d40efb41a",
   "metadata": {},
   "outputs": [
    {
     "ename": "SyntaxError",
     "evalue": "invalid syntax (2761082039.py, line 4)",
     "output_type": "error",
     "traceback": [
      "\u001b[0;36m  Cell \u001b[0;32mIn[28], line 4\u001b[0;36m\u001b[0m\n\u001b[0;31m    job3 =\u001b[0m\n\u001b[0m           ^\u001b[0m\n\u001b[0;31mSyntaxError\u001b[0m\u001b[0;31m:\u001b[0m invalid syntax\n"
     ]
    }
   ],
   "source": [
    "def mastercurve_wf_generator(mastercurve_obj, ):\n",
    "    job1 = mastercurve_obj.MasterCurveCLI(param1, param2)\n",
    "    job2 = submit_slurm_files(mastercurve_obj.calc_dir)\n",
    "    job3 = "
   ]
  },
  {
   "cell_type": "code",
   "execution_count": 29,
   "id": "bf7fc7f0-b080-44e3-9545-8d7a87efcaad",
   "metadata": {},
   "outputs": [
    {
     "ename": "SyntaxError",
     "evalue": "invalid syntax (2188614686.py, line 18)",
     "output_type": "error",
     "traceback": [
      "\u001b[0;36m  Cell \u001b[0;32mIn[29], line 18\u001b[0;36m\u001b[0m\n\u001b[0;31m    create_mastercurve_inputs = dmaMasterCurveInputGenerator.MasterCurveCLI(???)\u001b[0m\n\u001b[0m                                                                            ^\u001b[0m\n\u001b[0;31mSyntaxError\u001b[0m\u001b[0;31m:\u001b[0m invalid syntax\n"
     ]
    }
   ],
   "source": [
    "import warnings\n",
    "warnings.filterwarnings(\"ignore\", \"Using `tqdm.autonotebook.tqdm`\")\n",
    "from jobflow import job, JobStore, Flow\n",
    "from maggma.stores import MemoryStore\n",
    "\n",
    "docs_store = MemoryStore()\n",
    "store = JobStore(docs_store)\n",
    "\n",
    "#TODO: parameters for job 1's MasterCurveCLI\n",
    "#TODO: parameters for job 2's submit_submit_slurm_files\n",
    "#TODO: class for job 3's dmaMasterCurveParser: not found in updated in LAMMPSInputGenerator.py\n",
    "#TODO: function call for job 3's parse_mastercurve_data\n",
    "\n",
    "# job 1 [create_mastercurve_inputs]: create Lamp Input w/ DMAConvAn..G(..)\n",
    "lammpsInputGenerator = LammpsInputGenerator()\n",
    "dmaInputGenerator = DMAInputGenerator(lammpsInputGenerator)\n",
    "dmaMasterCurveInputGenerator = DMAMasterCurveInputGenerator(dmaInputGenerator)\n",
    "create_mastercurve_inputs = dmaMasterCurveInputGenerator.MasterCurveCLI(???)\n",
    "\n",
    "# job 2 [submit_jobs]: submit to supercomputer\n",
    "submit_jobs = submit_slurm_files(???)\n",
    "\n",
    "# job 3 [parse_mastercurve_data]: parse output from job 2\n",
    "dmaMasterCurveParser = DMAMasterCurveParser(??)\n",
    "parse_mastercurve_data = dmaMasterCurveParser.???\n",
    "\n",
    "# create Flow\n",
    "flow = Flow([create_mastercurve_inputs, submit_jobs, parse_mastercurve_data])\n",
    "\n",
    "# create Workflow by converting flow (jobflow's Flow object) to a FireWorks' WorkFlow object\n",
    "masterCurveFlow = flow_to_workflow(flow, store=store)"
   ]
  }
 ],
 "metadata": {
  "kernelspec": {
   "display_name": "Python 3 (ipykernel)",
   "language": "python",
   "name": "python3"
  },
  "language_info": {
   "codemirror_mode": {
    "name": "ipython",
    "version": 3
   },
   "file_extension": ".py",
   "mimetype": "text/x-python",
   "name": "python",
   "nbconvert_exporter": "python",
   "pygments_lexer": "ipython3",
   "version": "3.9.16"
  }
 },
 "nbformat": 4,
 "nbformat_minor": 5
}
